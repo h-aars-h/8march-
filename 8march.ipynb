{
 "cells": [
  {
   "cell_type": "markdown",
   "id": "bca8c409-f125-4b96-8107-8c81ba64aa84",
   "metadata": {},
   "source": [
    "##                                              Assignment Questions 8 March "
   ]
  },
  {
   "cell_type": "code",
   "execution_count": null,
   "id": "d600d9c9-7c70-4b88-a8e9-861db890f0fb",
   "metadata": {},
   "outputs": [],
   "source": [
    "# Q1. What is the Probability density function?\n",
    "# Ans  Distribution of continous random variable "
   ]
  },
  {
   "cell_type": "code",
   "execution_count": 8,
   "id": "25ee65a6-eb69-4aff-ab31-2c6a24438f24",
   "metadata": {},
   "outputs": [],
   "source": [
    "# Q2. What are the types of Probability distribution?\n",
    "# Ans 2  the types of Probability distribution is ....\n",
    "# 1.Normal Gaussian Distribution(pdf) \n",
    "# 2.Bernauli Distribution(pmf)\n",
    "# 3. Uniform Distribution (pmf)\n",
    "# 4.Possion Distribution (pmf)\n",
    "# 5. Log Normal Distribution (pdf)\n",
    "# 6. Bionomial Distribution(pmf)"
   ]
  },
  {
   "cell_type": "code",
   "execution_count": 9,
   "id": "1b6c2cce-ab7f-47d0-8628-6f433829bb30",
   "metadata": {},
   "outputs": [
    {
     "name": "stdout",
     "output_type": "stream",
     "text": [
      "Probability density function at point 3.0 : 0.12098536225957168\n"
     ]
    }
   ],
   "source": [
    "# Q3. Write a Python function to calculate the probability density function of a normal distribution with\n",
    "# given mean and standard deviation at a given point.\n",
    "from scipy.stats import norm\n",
    "\n",
    "def normal_pdf(mean, std_dev, point):\n",
    "    \"\"\"\n",
    "    Calculates the probability density function of a normal distribution with a given mean and standard deviation\n",
    "    at a given point.\n",
    "    \n",
    "    Parameters:\n",
    "    mean (float): Mean of the normal distribution\n",
    "    std_dev (float): Standard deviation of the normal distribution\n",
    "    point (float): Point at which to evaluate the probability density function\n",
    "    \n",
    "    Returns:\n",
    "    pdf (float): Probability density function of the normal distribution at the given point\n",
    "    \"\"\"\n",
    "    pdf = norm.pdf(point, loc=mean, scale=std_dev)\n",
    "    return pdf\n",
    "mean = 5.0\n",
    "std_dev = 2.0\n",
    "point = 3.0\n",
    "pdf = normal_pdf(mean, std_dev, point)\n",
    "print(\"Probability density function at point\", point, \":\", pdf)"
   ]
  },
  {
   "cell_type": "code",
   "execution_count": 1,
   "id": "22b86ccf-2081-4b28-8f75-8f283bf35177",
   "metadata": {},
   "outputs": [],
   "source": [
    "# Q4. What are the properties of Binomial distribution? Give two examples of events where binomial\n",
    "# distribution can be applied.\n",
    "# Ans 4= In probability theory and statistics, the binomial distribution with parameters n and p is the discrete \n",
    "# probability distribution of the number of successes in a sequence of n independent experiments, each asking a yes–no question,\n",
    "# and each with its own Boolean-valued outcome: success (with probability p) or failure (with probability   = 1 −   q=1-p).\n",
    "# A single success/failure experiment is also called a Bernoulli trial or Bernoulli experiment, and a sequence of outcomes is called a Bernoulli process;\n",
    "# for a single trial, i.e., n = 1, the binomial distribution is a Bernoulli distribution.\n",
    "# The binomial distribution is the basis for the popular binomial test of statistical significance.\n",
    "# Example 1 Coin flips: Suppose you flip a fair coin 10 times and you want to know the probability of getting exactly 3 heads.\n",
    "# Each flip has two possible outcomes (heads or tails), and the trials are independent of each other. Thus, this is an example of a binomial\n",
    "# distribution with n = 10 and p = 0.5 (the probability of heads on any given flip)\n",
    "#  Example 2 Medical trials: Suppose a new drug is being tested to see if it is effective in treating a certain disease. \n",
    "# The drug is given to a group of 100 patients, and it is desired to know the probability that at least 70 patients respond positively to the drug.\n",
    "# Each patient either responds positively or does not respond positively (two possible outcomes), and the patients are independent of each other. This is an example of a binomial distribution with n = 100 and p = the probability of a patient responding positively to the drug\n",
    "# (which would have to be estimated from previous data or other sources)."
   ]
  },
  {
   "cell_type": "code",
   "execution_count": 2,
   "id": "0eeee065-93e9-4dc2-ac02-85259329e215",
   "metadata": {},
   "outputs": [
    {
     "data": {
      "image/png": "[encoded data removed]",
      "text/plain": [
       "<Figure size 640x480 with 1 Axes>"
      ]
     },
     "metadata": {},
     "output_type": "display_data"
    }
   ],
   "source": [
    "# Q5. Generate a random sample of size 1000 from a binomial distribution with probability of success 0.4\n",
    "# and plot a histogram of the results using matplotlib.\n",
    "# Ans 5: \n",
    "import numpy as np\n",
    "import matplotlib.pyplot as plt\n",
    "\n",
    "# Set the parameters\n",
    "n = 1000  # Sample size\n",
    "p = 0.4  # Probability of success\n",
    "\n",
    "# Generate the random sample\n",
    "sample = np.random.binomial(n, p, size=1000)\n",
    "\n",
    "# Plot the histogram\n",
    "plt.hist(sample, bins=25)\n",
    "plt.xlabel('Number of Successes')\n",
    "plt.ylabel('Frequency')\n",
    "plt.title('Binomial Distribution with n=1000 and p=0.4')\n",
    "plt.show()"
   ]
  },
  {
   "cell_type": "code",
   "execution_count": 4,
   "id": "681a486b-f6a9-48cd-952a-8539399e19a8",
   "metadata": {},
   "outputs": [
    {
     "name": "stdout",
     "output_type": "stream",
     "text": [
      "Cumulative distribution function at point 2 : 0.42319008112684364\n"
     ]
    }
   ],
   "source": [
    "# Q6. Write a Python function to calculate the cumulative distribution function of a Poisson distribution\n",
    "# with given mean at a given point.\n",
    "from scipy.stats import poisson\n",
    "\n",
    "def poisson_cdf(mean, point):\n",
    "    \"\"\"\n",
    "    Calculates the cumulative distribution function of a Poisson distribution with a given mean at a given point.\n",
    "    \n",
    "    Parameters:\n",
    "    mean (float): Mean of the Poisson distribution\n",
    "    point (int): Point at which to evaluate the cumulative distribution function\n",
    "    \n",
    "    Returns:\n",
    "    cdf (float): Cumulative distribution function of the Poisson distribution at the given point\n",
    "    \"\"\"\n",
    "    cdf = poisson.cdf(point, mu=mean)\n",
    "    return cdf\n",
    "mean = 3.0\n",
    "point = 2\n",
    "cdf = poisson_cdf(mean, point)\n",
    "print(\"Cumulative distribution function at point\", point, \":\", cdf)\n",
    "\n"
   ]
  },
  {
   "cell_type": "code",
   "execution_count": 5,
   "id": "35026e3a-0e63-476d-94ab-e80426cc29bd",
   "metadata": {},
   "outputs": [
    {
     "ename": "SyntaxError",
     "evalue": "invalid syntax (436668387.py, line 2)",
     "output_type": "error",
     "traceback": [
      "\u001b[0;36m  Cell \u001b[0;32mIn [5], line 2\u001b[0;36m\u001b[0m\n\u001b[0;31m    Ans 7=Definition: Binomial distribution describes the probability of obtaining a certain number of successes in a fixed number of independent trials,\u001b[0m\n\u001b[0m        ^\u001b[0m\n\u001b[0;31mSyntaxError\u001b[0m\u001b[0;31m:\u001b[0m invalid syntax\n"
     ]
    }
   ],
   "source": [
    "# Q7. How Binomial distribution different from Poisson distribution?\n",
    "# Ans 7=Definition: Binomial distribution describes the probability of obtaining a certain number of successes in a fixed number of independent trials,\n",
    "# where each trial has only two possible outcomes (success or failure). Poisson distribution describes the probability of a certain number of events \n",
    "# occurring in a fixed interval of time or space, where the events occur randomly and independently of each other.\n",
    "# Number of possible outcomes: Binomial distribution has only two possible outcomes (success or failure) for each trial, while Poisson distribution\n",
    "# has an infinite number of possible outcomes (the number of events that can occur in the interval)."
   ]
  },
  {
   "cell_type": "code",
   "execution_count": 7,
   "id": "4c1038b5-abdb-47d8-bcdb-673d97f8a48e",
   "metadata": {},
   "outputs": [],
   "source": [
    "# Q8. Generate a random sample of size 1000 from a Poisson distribution with mean 5 and calculate the\n",
    "# sample mean and variance.\n",
    "# Ans 8 =In a Poisson distribution, the mean and variance are equal to the parameter lambda,\n",
    "# which is also the expected value of the random variable X. Therefore, in this case, we can generate a random sample of size 1000 from a\n",
    "# Poisson distribution with lambda = 5, which means that the expected value of X is 5."
   ]
  },
  {
   "cell_type": "code",
   "execution_count": null,
   "id": "032d25c7-8c5a-4b3e-b557-e98fc748fcd0",
   "metadata": {},
   "outputs": [],
   "source": [
    "# Q9. How mean and variance are related in Binomial distribution and Poisson distribution?\n",
    "# Ans 9 =The binomial and Poisson distributions are both discrete probability distributions that are commonly used in statistics and probability theory.\n",
    "# The mean and variance of these distributions are related as follows:\n",
    "# For the binomial distribution, the mean is given by the product of the number of trials (n) and the probability of success (p) in each trial.\n",
    "# The variance of the binomial distribution is given by the product of the number of trials (n), the probability of success (p), and the probability\n",
    "# of failure (q=1-p).\n",
    "# mean = n * p\n",
    "# variance = n * p * q\n",
    "# For the Poisson distribution, the mean and variance are equal and are both equal to the parameter λ (lambda) of the distribution. \n",
    "# The Poisson distribution models the number of occurrences of a rare event in a fixed interval of time or space, where λ is the average number of \n",
    "# occurrences per interval.\n",
    "# mean = variance = λ\n",
    "# Therefore, the relationship between mean and variance in binomial and Poisson distributions is different. In binomial distribution, variance is\n",
    "# related to the probability of failure while in Poisson distribution, mean and variance are equal.\n"
   ]
  },
  {
   "cell_type": "code",
   "execution_count": null,
   "id": "52aaf362-232f-4708-940e-cb38809bb85e",
   "metadata": {},
   "outputs": [],
   "source": [
    "# Q10. In normal distribution with respect to mean position, where does the least frequent data appear?\n",
    "# Ans 10 =In a normal distribution, the data is symmetrically distributed around the mean, with the highest frequency of data points\n",
    "# appearing at the mean. As we move away from the mean in either direction, the frequency of data points decreases. The shape of the \n",
    "# normal distribution is a bell curve, with the data points tapering off towards the tails on either side of the mean.\n",
    "# Therefore, the least frequent data points in a normal distribution appear in the tails of the distribution, far away from the mean.\n",
    "# These data points are referred to as the outliers or extreme values. The exact position of the least frequent data points depends on the \n",
    "# standard deviation of the distribution. The larger the standard deviation, the more spread out the data is, and the farther away the outlier\n",
    "# s will be from the mean."
   ]
  }
 ],
 "metadata": {
  "kernelspec": {
   "display_name": "Python 3 (ipykernel)",
   "language": "python",
   "name": "python3"
  },
  "language_info": {
   "codemirror_mode": {
    "name": "ipython",
    "version": 3
   },
   "file_extension": ".py",
   "mimetype": "text/x-python",
   "name": "python",
   "nbconvert_exporter": "python",
   "pygments_lexer": "ipython3",
   "version": "3.10.6"
  }
 },
 "nbformat": 4,
 "nbformat_minor": 5
}
